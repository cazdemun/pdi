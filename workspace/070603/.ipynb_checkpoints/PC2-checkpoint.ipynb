{
 "cells": [
  {
   "cell_type": "code",
   "execution_count": 54,
   "metadata": {},
   "outputs": [
    {
     "name": "stderr",
     "output_type": "stream",
     "text": [
      "C:\\ProgramData\\Anaconda3\\lib\\site-packages\\skimage\\feature\\_hog.py:119: skimage_deprecation: Default value of `block_norm`==`L1` is deprecated and will be changed to `L2-Hys` in v0.15\n",
      "  'be changed to `L2-Hys` in v0.15', skimage_deprecation)\n"
     ]
    },
    {
     "name": "stdout",
     "output_type": "stream",
     "text": [
      "98.88059701492537\n"
     ]
    }
   ],
   "source": [
    "import numpy as np\n",
    "import cv2\n",
    "import os, os.path\n",
    "from skimage.feature import hog\n",
    "from skimage import exposure\n",
    "\n",
    "percentage = 0.8\n",
    "\n",
    "# Construccion de base de datos\n",
    "imageDir = os.getcwd()\n",
    "labels = []\n",
    "dic = {}\n",
    "\n",
    "file_list = os.listdir(imageDir)\n",
    "    \n",
    "for folder in file_list:\n",
    "    if os.path.isdir(folder) and folder[0] != '.': # '.ipynb_checkpoints'\n",
    "        labels.append(ord(folder))\n",
    "        dic[ord(folder)] = []\n",
    "\n",
    "        for file in os.listdir(folder):\n",
    "            dic[ord(folder)].append(folder + \"\\\\\" + file)\n",
    "\n",
    "D=[] # Descriptores\n",
    "L=[] # Etiquetas\n",
    "\n",
    "# Construir dataset de entrenamiento\n",
    "\n",
    "for label in labels:\n",
    "    size = len(dic[label])\n",
    "    for im in dic[label][:int(size * percentage)]:\n",
    "        auxIm = cv2.imread(im, 0)\n",
    "        auxIm = cv2.resize(auxIm, (20, 20))\n",
    "        fd=hog(auxIm, orientations = 8, pixels_per_cell = (2, 2), cells_per_block = (1, 1))\n",
    "        \n",
    "        D.append(fd)\n",
    "        L.append(label)\n",
    "\n",
    "T=[]\n",
    "LT=[]\n",
    "\n",
    "for label in labels:\n",
    "    size = len(dic[label])\n",
    "    for im in dic[label][int(size * percentage):]:\n",
    "        auxIm = cv2.imread(im, 0)\n",
    "        auxIm = cv2.resize(auxIm, (20, 20))\n",
    "        fd=hog(auxIm, orientations = 8, pixels_per_cell = (2, 2), cells_per_block = (1, 1))\n",
    "        \n",
    "        T.append(fd)\n",
    "        LT.append(label)\n",
    "\n",
    "D = np.vstack(D)\n",
    "L = np.vstack(L)\n",
    "\n",
    "T = np.vstack(T)\n",
    "LT = np.vstack(LT)\n",
    "\n",
    "D = np.float32(D)\n",
    "T = np.float32(T)\n",
    "\n",
    "# Creamos maquina de aprendizaje\n",
    "svm = cv2.ml.SVM_create()\n",
    "\n",
    "svm.setKernel(cv2.ml.SVM_LINEAR)\n",
    "svm.setType(cv2.ml.SVM_C_SVC)\n",
    "svm.setC(2.67)\n",
    "svm.setGamma(5.383)\n",
    "\n",
    "svm.train(D, cv2.ml.ROW_SAMPLE, L)\n",
    "\n",
    "result = svm.predict(T)[1]\n",
    "mask = result == LT\n",
    "correct = np.count_nonzero(mask)\n",
    "\n",
    "print(correct * 100.0/ result.size)"
   ]
  },
  {
   "cell_type": "code",
   "execution_count": 67,
   "metadata": {},
   "outputs": [
    {
     "name": "stdout",
     "output_type": "stream",
     "text": [
      "6\n"
     ]
    },
    {
     "name": "stderr",
     "output_type": "stream",
     "text": [
      "C:\\ProgramData\\Anaconda3\\lib\\site-packages\\skimage\\feature\\_hog.py:119: skimage_deprecation: Default value of `block_norm`==`L1` is deprecated and will be changed to `L2-Hys` in v0.15\n",
      "  'be changed to `L2-Hys` in v0.15', skimage_deprecation)\n"
     ]
    }
   ],
   "source": [
    "test = cv2.imread('test.jpg', 0)\n",
    "test = cv2.resize(test, (20, 20))\n",
    "test = hog(test, orientations = 8, pixels_per_cell = (2, 2), cells_per_block = (1, 1))\n",
    "test = np.vstack([test])\n",
    "test = np.float32(test)\n",
    "\n",
    "resultado = svm.predict(test)[1]\n",
    "print(chr(resultado))"
   ]
  },
  {
   "cell_type": "code",
   "execution_count": 68,
   "metadata": {},
   "outputs": [
    {
     "name": "stdout",
     "output_type": "stream",
     "text": [
      "R\n"
     ]
    },
    {
     "name": "stderr",
     "output_type": "stream",
     "text": [
      "C:\\ProgramData\\Anaconda3\\lib\\site-packages\\skimage\\feature\\_hog.py:119: skimage_deprecation: Default value of `block_norm`==`L1` is deprecated and will be changed to `L2-Hys` in v0.15\n",
      "  'be changed to `L2-Hys` in v0.15', skimage_deprecation)\n"
     ]
    }
   ],
   "source": [
    "test = cv2.imread('test2.jpg', 0)\n",
    "test = cv2.resize(test, (20, 20))\n",
    "test = hog(test, orientations = 8, pixels_per_cell = (2, 2), cells_per_block = (1, 1))\n",
    "test = np.vstack([test])\n",
    "test = np.float32(test)\n",
    "\n",
    "resultado = svm.predict(test)[1]\n",
    "print(chr(resultado))"
   ]
  }
 ],
 "metadata": {
  "kernelspec": {
   "display_name": "Python 3",
   "language": "python",
   "name": "python3"
  },
  "language_info": {
   "codemirror_mode": {
    "name": "ipython",
    "version": 3
   },
   "file_extension": ".py",
   "mimetype": "text/x-python",
   "name": "python",
   "nbconvert_exporter": "python",
   "pygments_lexer": "ipython3",
   "version": "3.4.3"
  }
 },
 "nbformat": 4,
 "nbformat_minor": 2
}
