{
 "cells": [
  {
   "cell_type": "code",
   "execution_count": null,
   "metadata": {},
   "outputs": [],
   "source": [
    "def notchFilter(img):\n",
    "    rows, cols = img.shape\n",
    "    crow, ccol = rows // 2, cols // 2 # center row, center column\n",
    "    _filter = np.ones((rows, cols), np.uint8)\n",
    "    for x in range(0,rows):\n",
    "        for y in range(0,cols):\n",
    "            if x == crow and y == ccol:\n",
    "                _filter[x][y] = 0 \n",
    "    return _filter"
   ]
  },
  {
   "cell_type": "code",
   "execution_count": null,
   "metadata": {},
   "outputs": [],
   "source": [
    "def distance(u, v, img):\n",
    "    M, N = img.shape\n",
    "    d = np.sqrt(np.power(u - M // 2, 2) + np.power(v - N // 2, 2))\n",
    "    return d\n",
    "    "
   ]
  },
  {
   "cell_type": "code",
   "execution_count": null,
   "metadata": {},
   "outputs": [],
   "source": [
    "def distance(u, v, img):\n",
    "    M, N = img.shape\n",
    "    d = np.sqrt(np.power(u - M / 2, 2) + np.power(v - N / 2, 2))\n",
    "    if d == 0:\n",
    "        d = 0.0001\n",
    "    return d\n",
    "\n",
    "def butter(u, v, d0, n, img):\n",
    "    return 1 / (1 + np.power( d0 / distance(u, v, img), 2*n))\n",
    "\n",
    "def customMask(dist, width, img):\n",
    "    rows, cols = img.shape\n",
    "    crow, ccol = rows // 2, cols // 2 # center row, center column\n",
    "    mask = np.ones((rows, cols))\n",
    "    for x in range(0,rows):\n",
    "        for y in range(0,cols):\n",
    "            d = distance(x, y, img)\n",
    "            if d >= dist - width / 2 and d <= dist + width / 2:\n",
    "                mask[x][y] = 0\n",
    "    return mask\n",
    "\n",
    "def customMask2(img):\n",
    "    rows, cols = img.shape\n",
    "    crow, ccol = rows // 2, cols // 2 # center row, center column\n",
    "    mask = np.ones((rows, cols))\n",
    "    for x in range(0,rows):\n",
    "        for y in range(0,cols):\n",
    "            mask[x][y] = 1 - butter(x, y, 60, 7, img)\n",
    "    return mask\n",
    "\n",
    "\n",
    "mask = customMask(100, 50, img)\n",
    "#mask2 = customMask2(img)\n",
    "# Applying filters\n",
    "f_filter = f * mask #* mask2\n",
    "# Normalization\n",
    "magnitude = np.log(1 + np.abs(f_filter))\n",
    "# Anti-Fourier Transformation\n",
    "img_back = inverseFourier(f_filter)\n",
    "# Printing\n",
    "printImg(magnitude, img_back)\n"
   ]
  },
  {
   "cell_type": "code",
   "execution_count": null,
   "metadata": {},
   "outputs": [],
   "source": [
    "    for x in range(0,rows):\n",
    "        for y in range(0,cols):\n",
    "            d = distance(x, y, img)\n",
    "            if d >= dist - width / 2 and d <= dist + width / 2:\n",
    "                mask[x][y] = 0"
   ]
  },
  {
   "cell_type": "code",
   "execution_count": null,
   "metadata": {},
   "outputs": [],
   "source": [
    "    n = 2\n",
    "    mask[0 : rows, ccol - n : ccol + n] = 0\n",
    "    mask[0 : rows, ccol // 2 + 18 - n : ccol // 2 + 18 + n] = 0\n",
    "    mask[0 : rows, ccol + 65 - n : ccol + n + 65] = 0\n",
    "    mask[crow - n : crow + n, 0 : cols] = 0\n",
    "    mask[crow // 2 - n - 2 : crow // 2 + n - 2, 0 : cols] = 0\n",
    "    mask[ crow + 63 - n : crow + 63 + n, 0 : cols] = 0\n",
    "    # Center correction\n",
    "    n2 = 30\n",
    "    mask[crow - n2 : crow + n2, ccol-n2 : ccol + n2] = 1"
   ]
  }
 ],
 "metadata": {
  "kernelspec": {
   "display_name": "Python 3",
   "language": "python",
   "name": "python3"
  },
  "language_info": {
   "codemirror_mode": {
    "name": "ipython",
    "version": 3
   },
   "file_extension": ".py",
   "mimetype": "text/x-python",
   "name": "python",
   "nbconvert_exporter": "python",
   "pygments_lexer": "ipython3",
   "version": "3.4.3"
  }
 },
 "nbformat": 4,
 "nbformat_minor": 2
}
